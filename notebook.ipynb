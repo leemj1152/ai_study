{
 "cells": [
  {
   "cell_type": "code",
   "execution_count": 4,
   "metadata": {},
   "outputs": [
    {
     "name": "stdout",
     "output_type": "stream",
     "text": [
      "{'documents': [Document(page_content='핸디캡\\t승3.65\\t무3.60\\t패1.71\\t1 : 0\\t승\\n\\n109\\t프리그1\\t툴루즈  \\tU/O 2.5\\t AC아작  \\t언더오버\\tU1.69\\t-\\tO1.84\\t2\\tU\\n\\n110\\t프리그1\\t리옹    \\t 클레르몽\\t일반\\t승1.41\\t무4.10\\t패5.40\\t0 : 1\\t패\\n\\n111\\t프리그1\\t리옹    \\tH -1.0\\t 클레르몽\\t핸디캡\\t승2.13\\t무3.55\\t패2.60\\t-1 : 1\\t패\\n\\n112\\t프리그1\\t리옹    \\tH -2.5\\t 클레르몽\\t핸디캡\\t승3.55\\t-\\t패1.17\\t-2.5 : 1\\t패\\n\\n113\\t프리그1\\t리옹    \\tU/O 2.5\\t 클레르몽\\t언더오버\\tU2.19\\t-\\tO1.47\\t1\\tU\\n\\n114\\tEPL\\t노팅엄포\\t 첼시    \\t일반\\t승5.20\\t무3.60\\t패1.50\\t1 : 1\\t무\\n\\n115\\tEPL\\t노팅엄포\\tH +1.0\\t 첼시    \\t핸디캡\\t승2.21\\t무3.35\\t패2.60\\t2 : 1\\t승\\n\\n116\\tEPL\\t노팅엄포\\tU/O 2.5\\t 첼시', metadata={'source': './230001data.txt'}), Document(page_content='무\\n\\n102\\t프리그1\\tAS모나코\\tH -2.5\\t 브레스투\\t핸디캡\\t승3.46\\t-\\t패1.18\\t-1.5 : 0\\t패\\n\\n103\\t프리그1\\tAS모나코\\tU/O 3.5\\t 브레스투\\t언더오버\\tU1.50\\t-\\tO2.13\\t1\\tU\\n\\n104\\t프리그1\\t낭트    \\t 오세르  \\t일반\\t승1.80\\t무3.35\\t패3.55\\t1 : 0\\t승\\n\\n105\\t프리그1\\t낭트    \\tH -1.0\\t 오세르  \\t핸디캡\\t승3.30\\t무3.40\\t패1.85\\t0 : 0\\t무\\n\\n106\\t프리그1\\t낭트    \\tU/O 2.5\\t 오세르  \\t언더오버\\tU1.77\\t-\\tO1.75\\t1\\tU\\n\\n107\\t프리그1\\t툴루즈  \\t AC아작  \\t일반\\t승1.96\\t무3.10\\t패3.30\\t2 : 0\\t승\\n\\n108\\t프리그1\\t툴루즈  \\tH -1.0\\t AC아작  \\t핸디캡\\t승3.65\\t무3.60\\t패1.71\\t1 : 0\\t승\\n\\n109\\t프리그1\\t툴루즈  \\tU/O 2.5\\t AC아작  \\t언더오버\\tU1.69\\t-', metadata={'source': './230001data.txt'}), Document(page_content='H +1.0\\t 첼시    \\t핸디캡\\t승2.21\\t무3.35\\t패2.60\\t2 : 1\\t승\\n\\n116\\tEPL\\t노팅엄포\\tU/O 2.5\\t 첼시    \\t언더오버\\tU1.77\\t-\\tO1.75\\t2\\tU\\n\\n117\\t프리그1\\t랑스    \\t PSG     \\t일반\\t승3.20\\t무3.40\\t패1.89\\t3 : 1\\t승\\n\\n118\\t프리그1\\t랑스    \\tH +1.0\\t PSG     \\t핸디캡\\t승1.71\\t무3.65\\t패3.60\\t4 : 1\\t승\\n\\n119\\t프리그1\\t랑스    \\tU/O 2.5\\t PSG     \\t언더오버\\tU2.02\\t-\\tO1.56\\t4\\tO\\n\\n120\\tNBA\\t멤피그리\\t 새크킹스\\t일반\\t승1.41\\t-\\t패2.34\\t118 : 108\\t승\\n\\n121\\tNBA\\t멤피그리\\tH -5.5\\t 새크킹스\\t핸디캡\\t승1.80\\t-\\t패1.72\\t112.5 : 108\\t승\\n\\n122\\tNBA\\t멤피그리\\tH -4.5\\t 새크킹스\\t핸디캡\\t승1.76\\t-\\t패1.76\\t113.5 : 108\\t승\\n\\n123\\tNBA\\t멤피그리\\tU/O 241.5\\t 새크킹스\\t언더오버\\tU1.73\\t-', metadata={'source': './230001data.txt'}), Document(page_content='H -1.0\\t 애스턴  \\t핸디캡\\t승2.50\\t무3.45\\t패2.24\\t-1 : 2\\t패\\n\\n96\\tEPL\\t토트넘  \\tU/O 2.5\\t 애스턴  \\t언더오버\\tU1.96\\t-\\tO1.60\\t2\\tU\\n\\n97\\t프리그1\\t앙제SCO \\t 로리앙  \\t일반\\t승2.40\\t무3.35\\t패2.37\\t1 : 2\\t패\\n\\n98\\t프리그1\\t앙제SCO \\tH +1.0\\t 로리앙  \\t핸디캡\\t승1.44\\t무4.15\\t패5.00\\t2 : 2\\t무\\n\\n99\\t프리그1\\t앙제SCO \\tU/O 2.5\\t 로리앙  \\t언더오버\\tU1.71\\t-\\tO1.81\\t3\\tO\\n\\n100\\t프리그1\\tAS모나코\\t 브레스투\\t일반\\t승1.34\\t무4.35\\t패6.20\\t1 : 0\\t승\\n\\n101\\t프리그1\\tAS모나코\\tH -1.0\\t 브레스투\\t핸디캡\\t승2.06\\t무3.65\\t패2.65\\t0 : 0\\t무\\n\\n102\\t프리그1\\tAS모나코\\tH -2.5\\t 브레스투\\t핸디캡\\t승3.46\\t-\\t패1.18\\t-1.5 : 0\\t패\\n\\n103\\t프리그1', metadata={'source': './230001data.txt'})], 'question': '프리그1의 총 경기 숫자를 알려주세요'}\n"
     ]
    },
    {
     "data": {
      "text/plain": [
       "AIMessage(content='프리그1의 총 경기 숫자는 4입니다.')"
      ]
     },
     "execution_count": 4,
     "metadata": {},
     "output_type": "execute_result"
    }
   ],
   "source": [
    "from langchain.chat_models import ChatOpenAI\n",
    "from langchain.document_loaders import UnstructuredFileLoader\n",
    "from langchain.text_splitter import CharacterTextSplitter\n",
    "from langchain.embeddings import OpenAIEmbeddings, CacheBackedEmbeddings\n",
    "from langchain.vectorstores import FAISS\n",
    "from langchain.storage import LocalFileStore\n",
    "from langchain.prompts import ChatPromptTemplate\n",
    "from langchain.schema.runnable import RunnablePassthrough, RunnableLambda\n",
    "\n",
    "llm = ChatOpenAI()\n",
    "\n",
    "# import pandas as pd\n",
    "\n",
    "# df = pd.read_csv('./230001data.csv')\n",
    "\n",
    "# df.to_csv('230001data.txt', sep=\"\\t\")\n",
    "\n",
    "cache_dir = LocalFileStore('./.cache/')\n",
    "\n",
    "splitter = CharacterTextSplitter.from_tiktoken_encoder(\n",
    "  separator=\"\\t\",\n",
    "  chunk_size=600,\n",
    "  chunk_overlap=100,\n",
    ")\n",
    "\n",
    "loader = UnstructuredFileLoader(\"./230001data.txt\")\n",
    "# data = test_csv.load_and_split(text_splitter=splitter)\n",
    "docs = loader.load_and_split(text_splitter=splitter)\n",
    "embeddings = OpenAIEmbeddings()\n",
    "\n",
    "cached_embeddings = CacheBackedEmbeddings.from_bytes_store(\n",
    "  embeddings, cache_dir\n",
    ")\n",
    "\n",
    "vectorstore = FAISS.from_documents(docs, cached_embeddings)\n",
    "\n",
    "retriver = vectorstore.as_retriever()\n",
    "\n",
    "map_doc_prompt = ChatPromptTemplate.from_messages([\n",
    "  (\"system\", \"다음의 문서에서 질문에 대한 답변을 생성하는 것과 관련이 있는 부분을 카운팅 해주세요 {context}\"),\n",
    "  (\"human\", \"{question}\"),\n",
    "])\n",
    "\n",
    "map_doc_chain = map_doc_prompt | llm\n",
    "\n",
    "def map_docs(inputs):\n",
    "  print(inputs)\n",
    "  documents = inputs['documents']\n",
    "  question = inputs['question']\n",
    "  return \"\\n\\n\".join(\n",
    "    map_doc_chain.invoke(\n",
    "      {\"context\": doc.page_content, \"question\": question}\n",
    "    ).content\n",
    "    for doc in documents\n",
    "  )\n",
    "  \n",
    "\n",
    "map_chain = {\"documents\": retriver, \"question\": RunnablePassthrough()} | RunnableLambda(map_docs)\n",
    "\n",
    "final_prompt = ChatPromptTemplate.from_messages([\n",
    "  (\"system\", \"당신은 스포츠 통계 분석가 입니다. 주어진 문서를 바탕으로 질문에 답하세요. 문서에 없거나 모르는 정보를 지어내지 마세요. 주어진 문서 == {context}\"),\n",
    "  (\"human\", \"{question}\")\n",
    "])\n",
    "\n",
    "\n",
    "chain = {\"context\": map_chain, \"question\": RunnablePassthrough()} | final_prompt | llm\n",
    "\n",
    "chain.invoke(\"프리그1의 총 경기 숫자를 알려주세요\")\n",
    "\n"
   ]
  }
 ],
 "metadata": {
  "kernelspec": {
   "display_name": "env",
   "language": "python",
   "name": "python3"
  },
  "language_info": {
   "codemirror_mode": {
    "name": "ipython",
    "version": 3
   },
   "file_extension": ".py",
   "mimetype": "text/x-python",
   "name": "python",
   "nbconvert_exporter": "python",
   "pygments_lexer": "ipython3",
   "version": "3.9.8"
  },
  "orig_nbformat": 4
 },
 "nbformat": 4,
 "nbformat_minor": 2
}
