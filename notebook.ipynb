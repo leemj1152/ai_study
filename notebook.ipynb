{
 "cells": [
  {
   "cell_type": "code",
   "execution_count": 42,
   "metadata": {},
   "outputs": [],
   "source": [
    "# from langchain.chat_models import ChatOpenAI\n",
    "# from langchain.prompts import PromptTemplate\n",
    "# from langchain.prompts.few_shot import FewShotPromptTemplate\n",
    "# from langchain.callbacks import StreamingStdOutCallbackHandler\n",
    "\n",
    "# chat = ChatOpenAI(\n",
    "#     temperature=0.1, \n",
    "#     streaming=True,\n",
    "#     callbacks=[\n",
    "#         StreamingStdOutCallbackHandler(),\n",
    "#     ]\n",
    "# )\n"
   ]
  },
  {
   "cell_type": "code",
   "execution_count": 141,
   "metadata": {},
   "outputs": [],
   "source": [
    "from bs4 import BeautifulSoup\n",
    "from selenium import webdriver\n",
    "from selenium.webdriver.support.ui import WebDriverWait\n",
    "from selenium.webdriver.support import expected_conditions as EC\n",
    "from selenium.webdriver.common.by import By\n",
    "\n",
    "def extract_wwr_jobs():\n",
    "    browser = webdriver.Chrome()\n",
    "    browser.get(\"https://betman.co.kr/main/mainPage/gamebuy/gameSlip.do?frameType=typeA&gmId=G101&gmTs=230139\")\n",
    "\n",
    "    WebDriverWait(browser, 10).until(EC.presence_of_element_located((By.XPATH, '//*[@id=\"tbd_gmBuySlipList\"]/tr[128]')))\n",
    "    soup = BeautifulSoup(browser.page_source, \"html.parser\")\n",
    "    table = soup.find(\"tbody\", id=\"tbd_gmBuySlipList\")\n",
    "    for games in table:\n",
    "        games = table.find(\"tr\")\n",
    "        # for score in games:\n",
    "        #     score = games.find()\n",
    "\n",
    "    # games = wrap.find_all(\"tr\").find_all('div', class_=\"scoreDiv\")\n",
    "    # for game in games:\n",
    "    #     print(game)\n",
    "    # while (True):\n",
    "    #   pass\n",
    "\n"
   ]
  },
  {
   "cell_type": "code",
   "execution_count": null,
   "metadata": {},
   "outputs": [],
   "source": []
  },
  {
   "cell_type": "code",
   "execution_count": 142,
   "metadata": {},
   "outputs": [
    {
     "name": "stdout",
     "output_type": "stream",
     "text": [
      "<div class=\"scoreDiv fwb\"><div class=\"cell tar\"><span>부산KCC</span> <strong class=\"score\"><span class=\"blind\">점수</span>91</strong> </div><span class=\"dash\">:</span><div class=\"cell tal\"> <strong class=\"score\"><span class=\"blind\">점수</span>84</strong> <span>울산모비</span></div></div>\n"
     ]
    }
   ],
   "source": [
    "test = extract_wwr_jobs()"
   ]
  },
  {
   "cell_type": "code",
   "execution_count": null,
   "metadata": {},
   "outputs": [],
   "source": []
  }
 ],
 "metadata": {
  "kernelspec": {
   "display_name": "env",
   "language": "python",
   "name": "python3"
  },
  "language_info": {
   "codemirror_mode": {
    "name": "ipython",
    "version": 3
   },
   "file_extension": ".py",
   "mimetype": "text/x-python",
   "name": "python",
   "nbconvert_exporter": "python",
   "pygments_lexer": "ipython3",
   "version": "3.9.8"
  },
  "orig_nbformat": 4
 },
 "nbformat": 4,
 "nbformat_minor": 2
}
